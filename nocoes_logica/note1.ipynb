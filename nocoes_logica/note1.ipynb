{
 "cells": [
  {
   "cell_type": "markdown",
   "metadata": {},
   "source": [
    "# Noções de Lógica"
   ]
  },
  {
   "cell_type": "markdown",
   "metadata": {},
   "source": [
    "## Negação\n",
    "\n",
    "A partir de uma proposição p qualquer, sempre podemos construir outra, denominada negação de p e indicada com o símbolo ~p.\n",
    "\n",
    "Exemplos:\n",
    "\n",
    "a) p: Nove é diferente de cinco. $(9 \\neq 5)$\n",
    "\n",
    "~p: Nove é igual a cinco. $(9 = 5)$\n",
    "\n",
    "b) p: Sete é maior que três. $(7 > 3)$\n",
    "\n",
    "~p: Sete é menor ou igual a três. $(7 \\leq 3)$\n",
    "\n",
    "c) p: Dois é um número inteiro. $(2 \\in \\mathbb{Z})$\n",
    "\n",
    "~p: Dois não é um número inteiro. $(2 \\notin \\mathbb{Z})$\n",
    "\n",
    "d) p: Três é divisor de onze. $(3 | 11)$\n",
    "\n",
    "~p: Três não é divisor de onze. $(3 \\nmid 11)$\n",
    "\n",
    "e) p: Quatro vezes cinco é igual a vinte. $(4 \\times 5 = 20)$\n",
    "\n",
    "~p: Quatro vezes cinco é diferente de vinte. $(4 \\times 5 \\neq 20)$"
   ]
  },
  {
   "cell_type": "markdown",
   "metadata": {},
   "source": [
    "## Exercícios"
   ]
  },
  {
   "cell_type": "markdown",
   "metadata": {},
   "source": [
    "### 1. Quais das sentenças abaixo são proposições? No caso das proposições, quais são verdadeiras?"
   ]
  },
  {
   "cell_type": "markdown",
   "metadata": {},
   "source": [
    "![questao1](img/questao_1.png)"
   ]
  },
  {
   "cell_type": "markdown",
   "metadata": {},
   "source": [
    "a) proposição verdadeira\n",
    "\n",
    "b) proposição falsa\n",
    "\n",
    "c) proposição falsa\n",
    "\n",
    "d) proposição verdadeira\n",
    "\n",
    "e) proposição verdadeira\n",
    "\n",
    "f) proposição falsa\n",
    "\n",
    "g) proposição verdadeira\n",
    "\n",
    "h) não é uma proposição"
   ]
  },
  {
   "cell_type": "markdown",
   "metadata": {},
   "source": [
    "### 2. Qual é a negação de cada uma das seguintes proposições? Que negações são verdadeiras?"
   ]
  },
  {
   "cell_type": "markdown",
   "metadata": {},
   "source": [
    "![questao2](img/questao_2.png)"
   ]
  },
  {
   "cell_type": "markdown",
   "metadata": {},
   "source": [
    "a) $3 * 7 \\neq 21$  falso\n",
    "\n",
    "b) $3 * (11 - 7) = 5$ falso\n",
    "\n",
    "c) $3 * 2 + 1 \\leq 4$ falso\n",
    "\n",
    "d) $5 * 7 - 2 > 5 * 6$ verdadeiro\n",
    "\n",
    "e) $(\\frac{1}{2})^7 \\geq (\\frac{1}{2})^3$  falso\n",
    "\n",
    "f) $\\sqrt{2} \\geq 1$ verdadeiro\n",
    "\n",
    "g) $-(-4) < 7$ verdadeiro\n",
    "\n",
    "h) $3 \\nmid 7$ verdadeiro"
   ]
  },
  {
   "cell_type": "markdown",
   "metadata": {},
   "source": []
  }
 ],
 "metadata": {
  "kernelspec": {
   "display_name": "Python 3",
   "language": "python",
   "name": "python3"
  },
  "language_info": {
   "name": "python",
   "version": "3.12.0"
  }
 },
 "nbformat": 4,
 "nbformat_minor": 2
}

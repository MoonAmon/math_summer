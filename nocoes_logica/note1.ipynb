{
 "cells": [
  {
   "cell_type": "markdown",
   "metadata": {},
   "source": [
    "# Noções de Lógica"
   ]
  },
  {
   "cell_type": "markdown",
   "metadata": {},
   "source": [
    "## Negação\n",
    "\n",
    "A partir de uma proposição p qualquer, sempre podemos construir outra, denominada negação de p e indicada com o símbolo ~p.\n",
    "\n",
    "Exemplos:\n",
    "\n",
    "a) p: Nove é diferente de cinco. $(9 \\neq 5)$\n",
    "\n",
    "~p: Nove é igual a cinco. $(9 = 5)$\n",
    "\n",
    "b) p: Sete é maior que três. $(7 > 3)$\n",
    "\n",
    "~p: Sete é menor ou igual a três. $(7 \\leq 3)$\n",
    "\n",
    "c) p: Dois é um número inteiro. $(2 \\in \\mathbb{Z})$\n",
    "\n",
    "~p: Dois não é um número inteiro. $(2 \\notin \\mathbb{Z})$\n",
    "\n",
    "d) p: Três é divisor de onze. $(3 | 11)$\n",
    "\n",
    "~p: Três não é divisor de onze. $(3 \\nmid 11)$\n",
    "\n",
    "e) p: Quatro vezes cinco é igual a vinte. $(4 \\times 5 = 20)$\n",
    "\n",
    "~p: Quatro vezes cinco é diferente de vinte. $(4 \\times 5 \\neq 20)$"
   ]
  },
  {
   "cell_type": "markdown",
   "metadata": {},
   "source": [
    "## Exercícios"
   ]
  },
  {
   "cell_type": "markdown",
   "metadata": {},
   "source": [
    "### 1. Quais das sentenças abaixo são proposições? No caso das proposições, quais são verdadeiras?"
   ]
  },
  {
   "cell_type": "markdown",
   "metadata": {},
   "source": [
    "![questao1](img/questao_1.png)"
   ]
  },
  {
   "cell_type": "markdown",
   "metadata": {},
   "source": [
    "a) proposição verdadeira\n",
    "\n",
    "b) proposição falsa\n",
    "\n",
    "c) proposição falsa\n",
    "\n",
    "d) proposição verdadeira\n",
    "\n",
    "e) proposição verdadeira\n",
    "\n",
    "f) proposição falsa\n",
    "\n",
    "g) proposição verdadeira\n",
    "\n",
    "h) não é uma proposição"
   ]
  },
  {
   "cell_type": "markdown",
   "metadata": {},
   "source": [
    "### 2. Qual é a negação de cada uma das seguintes proposições? Que negações são verdadeiras?"
   ]
  },
  {
   "cell_type": "markdown",
   "metadata": {},
   "source": [
    "![questao2](img/questao_2.png)"
   ]
  },
  {
   "cell_type": "markdown",
   "metadata": {},
   "source": [
    "a) $3 * 7 \\neq 21$  falso\n",
    "\n",
    "b) $3 * (11 - 7) = 5$ falso\n",
    "\n",
    "c) $3 * 2 + 1 \\leq 4$ falso\n",
    "\n",
    "d) $5 * 7 - 2 > 5 * 6$ verdadeiro\n",
    "\n",
    "e) $(\\frac{1}{2})^7 \\geq (\\frac{1}{2})^3$  falso\n",
    "\n",
    "f) $\\sqrt{2} \\geq 1$ verdadeiro\n",
    "\n",
    "g) $-(-4) < 7$ verdadeiro\n",
    "\n",
    "h) $3 \\nmid 7$ verdadeiro"
   ]
  },
  {
   "cell_type": "markdown",
   "metadata": {},
   "source": [
    "### 3. Classifique em verdadeira ou falsa cada uma das seguintes proposições compostas:"
   ]
  },
  {
   "cell_type": "markdown",
   "metadata": {},
   "source": [
    "![questao3](img/questao_3.png)"
   ]
  },
  {
   "cell_type": "markdown",
   "metadata": {},
   "source": [
    "a) V\n",
    "\n",
    "b) V\n",
    "\n",
    "c) V\n",
    "\n",
    "d) F\n",
    "\n",
    "e) V\n",
    "\n",
    "f) F\n",
    "\n",
    "g) F"
   ]
  },
  {
   "cell_type": "markdown",
   "metadata": {},
   "source": [
    "## Condicionais\n",
    "Ainda a partir de proposições dadas podemos construir novas proposições mediante o emprego de outros dois símbolos lógicos chamados condicionais: o **condicional** se... então... (símbolo: →) e o condicional ... se, e somente se, ... (símbolo: ↔)."
   ]
  },
  {
   "cell_type": "markdown",
   "metadata": {},
   "source": [
    "- **Condicional $ \\rightarrow $**\n",
    "\n",
    "Colocando o condicional $ \\rightarrow $ entre duas proposições p e q, obtemos uma nova proposição, $p \\rightarrow q$, que se lê: **“se p, então q”, “p é condição suficiente para q”, “q é condição necessária para p”.**\n",
    "\n",
    "No condicional p → q, a proposição p é chamada **antecedente** e q é chamada  **consequente** .\n",
    "\n",
    "|p|q|$p \\rightarrow q$|\n",
    "|-|-|:---:|\n",
    "|V|V|V|\n",
    "|V|F|F|\n",
    "|F|V|V|\n",
    "|F|F|V|"
   ]
  },
  {
   "cell_type": "markdown",
   "metadata": {},
   "source": [
    "- **Condicional $\\leftrightarrow$**\n",
    "\n",
    "Colocando o condicional $\\leftrightarrow$ entre duas proposições p e q, obtemos uma nova proposição, $p \\leftrightarrow q$, que se lê: **“p se, e somente se, q”, “p é condição necessária e suficiente para q”, “q é condição necessária e suficiente para p” ou “se p, então q e reciprocamente”.**\n",
    "\n",
    "|p|q|$p \\leftrightarrow q$|\n",
    "|-|-|:---:|\n",
    "|V|V|V|\n",
    "|V|F|F|\n",
    "|F|V|F|\n",
    "|F|F|V|"
   ]
  },
  {
   "cell_type": "markdown",
   "metadata": {},
   "source": [
    "## Exercícios"
   ]
  },
  {
   "cell_type": "markdown",
   "metadata": {},
   "source": [
    "### 4.  Classifique em verdadeira ou falsa cada uma das proposições abaixo.\n"
   ]
  },
  {
   "cell_type": "markdown",
   "metadata": {},
   "source": [
    "![questao4](img/questao_4.png)"
   ]
  },
  {
   "cell_type": "markdown",
   "metadata": {},
   "source": [
    "a) V\n",
    "\n",
    "b) F\n",
    "\n",
    "c) F\n",
    "\n",
    "d) V\n",
    "\n",
    "e) F\n",
    "\n",
    "f) F\n",
    "\n",
    "g) V"
   ]
  },
  {
   "cell_type": "markdown",
   "metadata": {},
   "source": [
    "### 5. Admitindo que p e q são verdadeiras e r é falsa, determine o valor (V ou F) de cada proposição abaixo."
   ]
  },
  {
   "cell_type": "markdown",
   "metadata": {},
   "source": [
    "![questao5](img/questao_5.png)"
   ]
  },
  {
   "cell_type": "markdown",
   "metadata": {},
   "source": [
    "a) F\n",
    "\n",
    "b) V\n",
    "\n",
    "c) V\n",
    "\n",
    "d) V\n",
    "\n",
    "e) F\n",
    "\n",
    "f) V\n",
    "\n",
    "g) V\n",
    "\n",
    "h) V"
   ]
  },
  {
   "cell_type": "markdown",
   "metadata": {},
   "source": [
    "### 6. Sendo a proposição $p \\leftarrow (r \\vee s)$ falsa e a proposição $(q \\wedge ~s) \\leftrightarrow p$ verdadeira, classifique em verdadeira ou falsa as afirmações p, q, r e s."
   ]
  },
  {
   "cell_type": "markdown",
   "metadata": {},
   "source": [
    "p = F\n",
    "\n",
    "r = F\n",
    "\n",
    "s = V\n",
    "\n",
    "q = F  F"
   ]
  }
 ],
 "metadata": {
  "kernelspec": {
   "display_name": "Python 3",
   "language": "python",
   "name": "python3"
  },
  "language_info": {
   "name": "python",
   "version": "3.12.0"
  }
 },
 "nbformat": 4,
 "nbformat_minor": 2
}
